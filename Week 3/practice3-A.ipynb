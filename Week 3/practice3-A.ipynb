{
 "cells": [
  {
   "cell_type": "code",
   "execution_count": null,
   "metadata": {
    "scrolled": true
   },
   "outputs": [
    {
     "name": "stdout",
     "output_type": "stream",
     "text": [
      "This programe converts between any two currencies\n"
     ]
    }
   ],
   "source": [
    "import requests\n",
    "\n",
    "base_link_forex = 'http://data.fixer.io/api/latest'\n",
    "parameters_forex = {\n",
    "    \"access_key\" : \"e1be8ec55a7c5fa9600ff656adf94ac4\",\n",
    "}\n",
    "response = requests.get(base_link_forex,parameters_forex).json()\n",
    "\n",
    "print(\"This programe converts between any two currencies\")\n",
    "\n",
    "base_curr = input(\" Input your current currency:  \")\n",
    "\n",
    "\n",
    "to_curr = input(\"Input the currency you wont to convert to:  \")\n",
    "\n",
    "amount = float(input(\"How many you want to convert: \"))\n",
    "\n",
    "\n",
    "\n",
    "result = (float(response[\"rates\"][to_curr])/float(response[\"rates\"][base_curr])) * amount\n",
    "\n",
    "\n",
    "print(f\"{amount} {base_curr} to {to_curr} is {result}\") "
   ]
  },
  {
   "cell_type": "code",
   "execution_count": null,
   "metadata": {},
   "outputs": [],
   "source": []
  }
 ],
 "metadata": {
  "kernelspec": {
   "display_name": "Python 3",
   "language": "python",
   "name": "python3"
  },
  "language_info": {
   "codemirror_mode": {
    "name": "ipython",
    "version": 3
   },
   "file_extension": ".py",
   "mimetype": "text/x-python",
   "name": "python",
   "nbconvert_exporter": "python",
   "pygments_lexer": "ipython3",
   "version": "3.7.0"
  }
 },
 "nbformat": 4,
 "nbformat_minor": 2
}
