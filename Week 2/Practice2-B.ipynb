{
 "cells": [
  {
   "cell_type": "code",
   "execution_count": 16,
   "metadata": {},
   "outputs": [
    {
     "name": "stdout",
     "output_type": "stream",
     "text": [
      "***This program change between two currencies*** \n",
      "\n",
      " Please chouse the currency you want to change: \n",
      " 1.Jordanian Dinar \n",
      " 2.Turkish Laira \n",
      " 3.US Dollar \n",
      "\n",
      "2\n",
      "Please enter the amount of mony you want to change: 345\n",
      "\n",
      " \n",
      " Please enter the currency which you want to change for: \n",
      " 1.Jordanian Dinar \n",
      " 2.Turkish Laira \n",
      " 3.US Dollar \n",
      "\n",
      "1\n",
      "Your mony in JD : 44.85 \n",
      " \n",
      " \n",
      " The Programe Ends Here \n",
      " Have You A Great Day\n"
     ]
    }
   ],
   "source": [
    "print( \"***This program change between two currencies*** \\n\\n Please chouse the currency you want to change: \\n 1.Jordanian Dinar \\n 2.Turkish Laira \\n 3.US Dollar \\n\")\n",
    "current=input()\n",
    "mony=float(input(\"Please enter the amount of mony you want to change: \"))\n",
    "print (\"\\n \\n Please enter the currency which you want to change for: \\n 1.Jordanian Dinar \\n 2.Turkish Laira \\n 3.US Dollar \\n\")\n",
    "wanted=input()\n",
    "if current==\"1\":\n",
    "    if wanted==\"2\":\n",
    "        TL=7.71*mony\n",
    "        print (f'Your mony in TL : {TL} \\n \\n \\n The Programe Ends Here \\n Have You A Great Day')\n",
    "    elif wanted==\"3\":\n",
    "        USD= 1.41*mony\n",
    "        print(f'Your mony in USD : {USD} \\n \\n \\n The Programe Ends Here \\n Have You A Great Day')\n",
    "elif current==\"2\":\n",
    "    if wanted==\"1\":\n",
    "        JD= 0.13*mony\n",
    "        print(f'Your mony in JD : {JD} \\n \\n \\n The Programe Ends Here \\n Have You A Great Day')\n",
    "    elif wanted==\"3\":\n",
    "        USD=0.18*mony\n",
    "        print(f'Your mony in USD : {USD} \\n \\n \\n The Programe Ends Here \\n Have You A Great Day')\n",
    "elif current ==\"3\":\n",
    "    if wanted==\"1\":   \n",
    "        JD= 0.71*mony\n",
    "        print (f'Your mony in JD : {JD} \\n \\n \\n The Programe Ends Here \\n Have You A Great Day')\n",
    "    elif wanted==\"2\":\n",
    "        TL= 5.47*mony\n",
    "        print (f'Your mony in TL : {TL} \\n \\n \\n The Programe Ends Here \\n Have You A Great Day')\n",
    "else:\n",
    "    print (\"\\n invaled number, please enter either 1 or 2 or 3 \")"
   ]
  }
 ],
 "metadata": {
  "kernelspec": {
   "display_name": "Python 3",
   "language": "python",
   "name": "python3"
  },
  "language_info": {
   "codemirror_mode": {
    "name": "ipython",
    "version": 3
   },
   "file_extension": ".py",
   "mimetype": "text/x-python",
   "name": "python",
   "nbconvert_exporter": "python",
   "pygments_lexer": "ipython3",
   "version": "3.7.0"
  }
 },
 "nbformat": 4,
 "nbformat_minor": 2
}
