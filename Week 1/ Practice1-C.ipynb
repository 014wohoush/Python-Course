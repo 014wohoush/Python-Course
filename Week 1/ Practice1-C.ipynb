{
 "cells": [
  {
   "cell_type": "code",
   "execution_count": 2,
   "metadata": {},
   "outputs": [
    {
     "name": "stdout",
     "output_type": "stream",
     "text": [
      "Enter the tempreture in Celsius: 65\n",
      "This tempreture equals: 149.0 Fahrenheit\n",
      "Enter the tempreture in Fahrenheit: 45\n",
      "This tempreture equals: 23.400000000000002 in Celesius\n"
     ]
    }
   ],
   "source": [
    "temp1= float(input(\"Enter the tempreture in Celsius: \"))\n",
    "temp1= (temp1*1.8)+32\n",
    "print (f\"This tempreture equals: {temp1} in Fahrenheit\")\n",
    "temp2= float(input(\"Enter the tempreture in Fahrenheit: \"))\n",
    "temp2= (temp2-32)*1.8\n",
    "print (f\"This tempreture equals: {temp2} in Celesius\")"
   ]
  },
  {
   "cell_type": "markdown",
   "metadata": {},
   "source": [
    "###### "
   ]
  }
 ],
 "metadata": {
  "kernelspec": {
   "display_name": "Python 3",
   "language": "python",
   "name": "python3"
  },
  "language_info": {
   "codemirror_mode": {
    "name": "ipython",
    "version": 3
   },
   "file_extension": ".py",
   "mimetype": "text/x-python",
   "name": "python",
   "nbconvert_exporter": "python",
   "pygments_lexer": "ipython3",
   "version": "3.7.0"
  }
 },
 "nbformat": 4,
 "nbformat_minor": 2
}
