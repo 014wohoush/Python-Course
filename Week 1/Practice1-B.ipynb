{
 "cells": [
  {
   "cell_type": "code",
   "execution_count": null,
   "metadata": {},
   "outputs": [],
   "source": [
    "nom= float(input(\"Enter your number here:\"))\n",
    "if nom<-100:\n",
    "    nom= nom*-1\n",
    "    print (nom)\n",
    "elif nom>=-100 and nom <=-25:\n",
    "    nom=nom**4\n",
    "    print (nom)\n",
    "elif nom> -25 and nom<=0:\n",
    "    nom= 3* nom**3 -1\n",
    "    print (nom)\n",
    "elif nom>0 and nom<=100:\n",
    "    nom= (3.14/2 * nom)+ 3**nom\n",
    "    print (nom)\n",
    "else:\n",
    "    print (nom)\n",
    "    \n",
    "#If I understand the question correctly then the best F(x) data type is float.\n",
    "#that is because if there is any decimal number after the calculation it well not appear accuritly the programe will\n",
    "#egnore it or approximate it to closest integer number"
   ]
  },
  {
   "cell_type": "code",
   "execution_count": null,
   "metadata": {},
   "outputs": [],
   "source": []
  },
  {
   "cell_type": "code",
   "execution_count": null,
   "metadata": {},
   "outputs": [],
   "source": []
  }
 ],
 "metadata": {
  "kernelspec": {
   "display_name": "Python 3",
   "language": "python",
   "name": "python3"
  },
  "language_info": {
   "codemirror_mode": {
    "name": "ipython",
    "version": 3
   },
   "file_extension": ".py",
   "mimetype": "text/x-python",
   "name": "python",
   "nbconvert_exporter": "python",
   "pygments_lexer": "ipython3",
   "version": "3.7.0"
  }
 },
 "nbformat": 4,
 "nbformat_minor": 2
}
