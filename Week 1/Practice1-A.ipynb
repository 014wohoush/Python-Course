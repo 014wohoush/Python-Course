{
 "cells": [
  {
   "cell_type": "code",
   "execution_count": null,
   "metadata": {},
   "outputs": [],
   "source": [
    "your_name= input(\"Enter Your Name: \")\n",
    "first_number= int(input(\"Enter the first number: \"))\n",
    "second_number= int(input(\" Enter the second number: \"))\n",
    "print (f\" Hi Mr/Ms {your_name}\")\n",
    "add= first_number + second_number\n",
    "sub= first_number - second_number\n",
    "mul= first_number * second_number\n",
    "div= first_number / second_number\n",
    "mod= first_number % second_number\n",
    "exponent= first_number ** second_number\n",
    "print (f\"The sum of {first_number} and {second_number} is:{add}\")\n",
    "print (f\"The sub of {first_number} and {second_number} is:{sub}\") \n",
    "print (f\"The mul of {first_number} and {second_number} is:{mul}\")\n",
    "print (f\"The div of {first_number} over {second_number} is:{div}\") \n",
    "print (f\"The reminder of {first_number} over {second_number} is:{mod}\")\n",
    "print (f\"The exponent of {first_number} to the power {second_number} is:{exponent}\")"
   ]
  }
 ],
 "metadata": {
  "kernelspec": {
   "display_name": "Python 3",
   "language": "python",
   "name": "python3"
  },
  "language_info": {
   "codemirror_mode": {
    "name": "ipython",
    "version": 3
   },
   "file_extension": ".py",
   "mimetype": "text/x-python",
   "name": "python",
   "nbconvert_exporter": "python",
   "pygments_lexer": "ipython3",
   "version": "3.7.0"
  }
 },
 "nbformat": 4,
 "nbformat_minor": 2
}
